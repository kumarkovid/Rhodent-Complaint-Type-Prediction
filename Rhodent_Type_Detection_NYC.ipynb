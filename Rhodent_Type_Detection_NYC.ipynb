{
 "cells": [
  {
   "cell_type": "code",
   "execution_count": 1,
   "metadata": {
    "id": "dG1RkGungoso"
   },
   "outputs": [],
   "source": [
    "import warnings\n",
    "warnings.filterwarnings('ignore')\n",
    "import pandas as pd\n",
    "import numpy as np\n",
    "from pandas import DataFrame\n",
    "from matplotlib import pyplot\n",
    "from sklearn.feature_extraction.text import TfidfVectorizer\n",
    "from sklearn.model_selection import train_test_split, GridSearchCV\n",
    "from sklearn.metrics import precision_recall_fscore_support as score\n",
    "import time\n",
    "from sklearn.feature_extraction.text import CountVectorizer\n",
    "from sklearn.model_selection import KFold, cross_val_score\n",
    "from sklearn.ensemble import RandomForestClassifier,GradientBoostingClassifier\n",
    "pd.set_option(\"display.max_colwidth\",100)\n",
    "pd.set_option('display.max_columns', None)\n",
    "pd.set_option('display.max_rows', None)\n",
    "%matplotlib inline\n",
    "import matplotlib.pyplot as plt"
   ]
  },
  {
   "cell_type": "code",
   "execution_count": 2,
   "metadata": {
    "id": "dhCDIK6jxcKB"
   },
   "outputs": [],
   "source": [
    "data=pd.read_csv(\"/content/complaints.csv\")"
   ]
  },
  {
   "cell_type": "markdown",
   "metadata": {
    "id": "EItMCKv_D7uP"
   },
   "source": [
    "### Descripting statistics\n",
    "Will print the description and info of the dataframe to understand the null values and quartile values"
   ]
  },
  {
   "cell_type": "code",
   "execution_count": 3,
   "metadata": {
    "colab": {
     "base_uri": "https://localhost:8080/",
     "height": 955
    },
    "id": "CmeK3a8h82aO",
    "outputId": "3af3fbf3-d5c3-4510-c3c0-f54e84c518d1"
   },
   "outputs": [
    {
     "data": {
      "text/html": [
       "<div>\n",
       "<style scoped>\n",
       "    .dataframe tbody tr th:only-of-type {\n",
       "        vertical-align: middle;\n",
       "    }\n",
       "\n",
       "    .dataframe tbody tr th {\n",
       "        vertical-align: top;\n",
       "    }\n",
       "\n",
       "    .dataframe thead th {\n",
       "        text-align: right;\n",
       "    }\n",
       "</style>\n",
       "<table border=\"1\" class=\"dataframe\">\n",
       "  <thead>\n",
       "    <tr style=\"text-align: right;\">\n",
       "      <th></th>\n",
       "      <th>Unnamed: 0</th>\n",
       "      <th>Unique Key</th>\n",
       "      <th>Created Date</th>\n",
       "      <th>Closed Date</th>\n",
       "      <th>Agency</th>\n",
       "      <th>Agency Name</th>\n",
       "      <th>Complaint Type</th>\n",
       "      <th>Descriptor</th>\n",
       "      <th>Location Type</th>\n",
       "      <th>Incident Zip</th>\n",
       "      <th>Incident Address</th>\n",
       "      <th>Street Name</th>\n",
       "      <th>Cross Street 1</th>\n",
       "      <th>Cross Street 2</th>\n",
       "      <th>Intersection Street 1</th>\n",
       "      <th>Intersection Street 2</th>\n",
       "      <th>Address Type</th>\n",
       "      <th>City</th>\n",
       "      <th>Landmark</th>\n",
       "      <th>Facility Type</th>\n",
       "      <th>Status</th>\n",
       "      <th>Due Date</th>\n",
       "      <th>Resolution Description</th>\n",
       "      <th>Resolution Action Updated Date</th>\n",
       "      <th>Community Board</th>\n",
       "      <th>Borough</th>\n",
       "      <th>X Coordinate (State Plane)</th>\n",
       "      <th>Y Coordinate (State Plane)</th>\n",
       "      <th>Park Facility Name</th>\n",
       "      <th>Park Borough</th>\n",
       "      <th>Vehicle Type</th>\n",
       "      <th>Taxi Company Borough</th>\n",
       "      <th>Taxi Pick Up Location</th>\n",
       "      <th>Bridge Highway Name</th>\n",
       "      <th>Bridge Highway Direction</th>\n",
       "      <th>Road Ramp</th>\n",
       "      <th>Bridge Highway Segment</th>\n",
       "      <th>Latitude</th>\n",
       "      <th>Longitude</th>\n",
       "      <th>Location</th>\n",
       "    </tr>\n",
       "  </thead>\n",
       "  <tbody>\n",
       "    <tr>\n",
       "      <th>0</th>\n",
       "      <td>0</td>\n",
       "      <td>34223255</td>\n",
       "      <td>09/01/2016 12:00:00 AM</td>\n",
       "      <td>09/02/2016 12:00:00 AM</td>\n",
       "      <td>DOHMH</td>\n",
       "      <td>Department of Health and Mental Hygiene</td>\n",
       "      <td>Rodent</td>\n",
       "      <td>Rat Sighting</td>\n",
       "      <td>Catch Basin/Sewer</td>\n",
       "      <td>10037.0</td>\n",
       "      <td>EAST 135 STREET</td>\n",
       "      <td>EAST 135 STREET</td>\n",
       "      <td>MADISON AVENUE</td>\n",
       "      <td>HARLEM RIVER DRIVE EXIT 21 NB</td>\n",
       "      <td>NaN</td>\n",
       "      <td>NaN</td>\n",
       "      <td>BLOCKFACE</td>\n",
       "      <td>NEW YORK</td>\n",
       "      <td>NaN</td>\n",
       "      <td>NaN</td>\n",
       "      <td>Closed</td>\n",
       "      <td>10/01/2016 04:23:55 PM</td>\n",
       "      <td>The Department of Health and Mental Hygiene will review your complaint to determine appropriate ...</td>\n",
       "      <td>09/02/2016 12:00:00 AM</td>\n",
       "      <td>Unspecified MANHATTAN</td>\n",
       "      <td>MANHATTAN</td>\n",
       "      <td>NaN</td>\n",
       "      <td>NaN</td>\n",
       "      <td>Unspecified</td>\n",
       "      <td>MANHATTAN</td>\n",
       "      <td>NaN</td>\n",
       "      <td>NaN</td>\n",
       "      <td>NaN</td>\n",
       "      <td>NaN</td>\n",
       "      <td>NaN</td>\n",
       "      <td>NaN</td>\n",
       "      <td>NaN</td>\n",
       "      <td>NaN</td>\n",
       "      <td>NaN</td>\n",
       "      <td>NaN</td>\n",
       "    </tr>\n",
       "    <tr>\n",
       "      <th>1</th>\n",
       "      <td>1</td>\n",
       "      <td>34226273</td>\n",
       "      <td>09/01/2016 12:00:00 AM</td>\n",
       "      <td>01/24/2017 12:00:00 AM</td>\n",
       "      <td>DOHMH</td>\n",
       "      <td>Department of Health and Mental Hygiene</td>\n",
       "      <td>Rodent</td>\n",
       "      <td>Rat Sighting</td>\n",
       "      <td>Vacant Lot</td>\n",
       "      <td>NaN</td>\n",
       "      <td>19</td>\n",
       "      <td>19</td>\n",
       "      <td>10 AVE</td>\n",
       "      <td>11 AVE</td>\n",
       "      <td>NaN</td>\n",
       "      <td>NaN</td>\n",
       "      <td>NaN</td>\n",
       "      <td>NaN</td>\n",
       "      <td>NaN</td>\n",
       "      <td>NaN</td>\n",
       "      <td>Closed</td>\n",
       "      <td>10/01/2016 02:25:00 PM</td>\n",
       "      <td>The Department of Health and Mental Hygiene will review your complaint to determine appropriate ...</td>\n",
       "      <td>01/24/2017 12:00:00 AM</td>\n",
       "      <td>Unspecified BROOKLYN</td>\n",
       "      <td>BROOKLYN</td>\n",
       "      <td>NaN</td>\n",
       "      <td>NaN</td>\n",
       "      <td>Unspecified</td>\n",
       "      <td>BROOKLYN</td>\n",
       "      <td>NaN</td>\n",
       "      <td>NaN</td>\n",
       "      <td>NaN</td>\n",
       "      <td>NaN</td>\n",
       "      <td>NaN</td>\n",
       "      <td>NaN</td>\n",
       "      <td>NaN</td>\n",
       "      <td>NaN</td>\n",
       "      <td>NaN</td>\n",
       "      <td>NaN</td>\n",
       "    </tr>\n",
       "    <tr>\n",
       "      <th>2</th>\n",
       "      <td>2</td>\n",
       "      <td>34213129</td>\n",
       "      <td>09/01/2016 12:00:00 AM</td>\n",
       "      <td>09/04/2016 12:00:00 AM</td>\n",
       "      <td>DOHMH</td>\n",
       "      <td>Department of Health and Mental Hygiene</td>\n",
       "      <td>Rodent</td>\n",
       "      <td>Rat Sighting</td>\n",
       "      <td>3+ Family Mixed Use Building</td>\n",
       "      <td>11238.0</td>\n",
       "      <td>147 GREENE AVENUE</td>\n",
       "      <td>GREENE AVENUE</td>\n",
       "      <td>WAVERLY AVENUE</td>\n",
       "      <td>WASHINGTON AVENUE</td>\n",
       "      <td>NaN</td>\n",
       "      <td>NaN</td>\n",
       "      <td>ADDRESS</td>\n",
       "      <td>BROOKLYN</td>\n",
       "      <td>NaN</td>\n",
       "      <td>NaN</td>\n",
       "      <td>Closed</td>\n",
       "      <td>10/01/2016 01:17:58 AM</td>\n",
       "      <td>The Department of Health and Mental Hygiene will review your complaint to determine appropriate ...</td>\n",
       "      <td>09/04/2016 12:00:00 AM</td>\n",
       "      <td>02 BROOKLYN</td>\n",
       "      <td>BROOKLYN</td>\n",
       "      <td>993633.0</td>\n",
       "      <td>189453.0</td>\n",
       "      <td>Unspecified</td>\n",
       "      <td>BROOKLYN</td>\n",
       "      <td>NaN</td>\n",
       "      <td>NaN</td>\n",
       "      <td>NaN</td>\n",
       "      <td>NaN</td>\n",
       "      <td>NaN</td>\n",
       "      <td>NaN</td>\n",
       "      <td>NaN</td>\n",
       "      <td>40.686677</td>\n",
       "      <td>-73.966167</td>\n",
       "      <td>(40.68667651821694, -73.96616742133907)</td>\n",
       "    </tr>\n",
       "    <tr>\n",
       "      <th>3</th>\n",
       "      <td>3</td>\n",
       "      <td>34214146</td>\n",
       "      <td>09/01/2016 12:00:00 AM</td>\n",
       "      <td>09/07/2016 12:00:00 AM</td>\n",
       "      <td>DOHMH</td>\n",
       "      <td>Department of Health and Mental Hygiene</td>\n",
       "      <td>Rodent</td>\n",
       "      <td>Rat Sighting</td>\n",
       "      <td>1-2 Family Dwelling</td>\n",
       "      <td>11203.0</td>\n",
       "      <td>813 EAST   51 STREET</td>\n",
       "      <td>EAST   51 STREET</td>\n",
       "      <td>AVENUE D</td>\n",
       "      <td>FOSTER AVENUE</td>\n",
       "      <td>NaN</td>\n",
       "      <td>NaN</td>\n",
       "      <td>ADDRESS</td>\n",
       "      <td>BROOKLYN</td>\n",
       "      <td>NaN</td>\n",
       "      <td>NaN</td>\n",
       "      <td>Closed</td>\n",
       "      <td>10/01/2016 02:03:32 AM</td>\n",
       "      <td>The Department of Health and Mental Hygiene will review your complaint to determine appropriate ...</td>\n",
       "      <td>09/07/2016 12:00:00 AM</td>\n",
       "      <td>17 BROOKLYN</td>\n",
       "      <td>BROOKLYN</td>\n",
       "      <td>1004167.0</td>\n",
       "      <td>172906.0</td>\n",
       "      <td>Unspecified</td>\n",
       "      <td>BROOKLYN</td>\n",
       "      <td>NaN</td>\n",
       "      <td>NaN</td>\n",
       "      <td>NaN</td>\n",
       "      <td>NaN</td>\n",
       "      <td>NaN</td>\n",
       "      <td>NaN</td>\n",
       "      <td>NaN</td>\n",
       "      <td>40.641241</td>\n",
       "      <td>-73.928234</td>\n",
       "      <td>(40.641241249401865, -73.92823353964022)</td>\n",
       "    </tr>\n",
       "    <tr>\n",
       "      <th>4</th>\n",
       "      <td>4</td>\n",
       "      <td>34216119</td>\n",
       "      <td>09/01/2016 12:00:00 AM</td>\n",
       "      <td>09/07/2016 12:00:00 AM</td>\n",
       "      <td>DOHMH</td>\n",
       "      <td>Department of Health and Mental Hygiene</td>\n",
       "      <td>Rodent</td>\n",
       "      <td>Rat Sighting</td>\n",
       "      <td>1-2 Family Dwelling</td>\n",
       "      <td>11203.0</td>\n",
       "      <td>776 EAST   52 STREET</td>\n",
       "      <td>EAST   52 STREET</td>\n",
       "      <td>AVENUE D</td>\n",
       "      <td>FOSTER AVENUE</td>\n",
       "      <td>NaN</td>\n",
       "      <td>NaN</td>\n",
       "      <td>ADDRESS</td>\n",
       "      <td>BROOKLYN</td>\n",
       "      <td>NaN</td>\n",
       "      <td>NaN</td>\n",
       "      <td>Closed</td>\n",
       "      <td>10/01/2016 01:59:10 AM</td>\n",
       "      <td>The Department of Health and Mental Hygiene will review your complaint to determine appropriate ...</td>\n",
       "      <td>09/07/2016 12:00:00 AM</td>\n",
       "      <td>17 BROOKLYN</td>\n",
       "      <td>BROOKLYN</td>\n",
       "      <td>1004421.0</td>\n",
       "      <td>172914.0</td>\n",
       "      <td>Unspecified</td>\n",
       "      <td>BROOKLYN</td>\n",
       "      <td>NaN</td>\n",
       "      <td>NaN</td>\n",
       "      <td>NaN</td>\n",
       "      <td>NaN</td>\n",
       "      <td>NaN</td>\n",
       "      <td>NaN</td>\n",
       "      <td>NaN</td>\n",
       "      <td>40.641263</td>\n",
       "      <td>-73.927318</td>\n",
       "      <td>(40.64126263285648, -73.92731828387933)</td>\n",
       "    </tr>\n",
       "  </tbody>\n",
       "</table>\n",
       "</div>"
      ],
      "text/plain": [
       "   Unnamed: 0  Unique Key            Created Date             Closed Date  \\\n",
       "0           0    34223255  09/01/2016 12:00:00 AM  09/02/2016 12:00:00 AM   \n",
       "1           1    34226273  09/01/2016 12:00:00 AM  01/24/2017 12:00:00 AM   \n",
       "2           2    34213129  09/01/2016 12:00:00 AM  09/04/2016 12:00:00 AM   \n",
       "3           3    34214146  09/01/2016 12:00:00 AM  09/07/2016 12:00:00 AM   \n",
       "4           4    34216119  09/01/2016 12:00:00 AM  09/07/2016 12:00:00 AM   \n",
       "\n",
       "  Agency                              Agency Name Complaint Type  \\\n",
       "0  DOHMH  Department of Health and Mental Hygiene         Rodent   \n",
       "1  DOHMH  Department of Health and Mental Hygiene         Rodent   \n",
       "2  DOHMH  Department of Health and Mental Hygiene         Rodent   \n",
       "3  DOHMH  Department of Health and Mental Hygiene         Rodent   \n",
       "4  DOHMH  Department of Health and Mental Hygiene         Rodent   \n",
       "\n",
       "     Descriptor                 Location Type  Incident Zip  \\\n",
       "0  Rat Sighting             Catch Basin/Sewer       10037.0   \n",
       "1  Rat Sighting                    Vacant Lot           NaN   \n",
       "2  Rat Sighting  3+ Family Mixed Use Building       11238.0   \n",
       "3  Rat Sighting           1-2 Family Dwelling       11203.0   \n",
       "4  Rat Sighting           1-2 Family Dwelling       11203.0   \n",
       "\n",
       "       Incident Address       Street Name  Cross Street 1  \\\n",
       "0       EAST 135 STREET   EAST 135 STREET  MADISON AVENUE   \n",
       "1                    19                19          10 AVE   \n",
       "2     147 GREENE AVENUE     GREENE AVENUE  WAVERLY AVENUE   \n",
       "3  813 EAST   51 STREET  EAST   51 STREET        AVENUE D   \n",
       "4  776 EAST   52 STREET  EAST   52 STREET        AVENUE D   \n",
       "\n",
       "                  Cross Street 2 Intersection Street 1 Intersection Street 2  \\\n",
       "0  HARLEM RIVER DRIVE EXIT 21 NB                   NaN                   NaN   \n",
       "1                         11 AVE                   NaN                   NaN   \n",
       "2              WASHINGTON AVENUE                   NaN                   NaN   \n",
       "3                  FOSTER AVENUE                   NaN                   NaN   \n",
       "4                  FOSTER AVENUE                   NaN                   NaN   \n",
       "\n",
       "  Address Type      City Landmark  Facility Type  Status  \\\n",
       "0    BLOCKFACE  NEW YORK      NaN            NaN  Closed   \n",
       "1          NaN       NaN      NaN            NaN  Closed   \n",
       "2      ADDRESS  BROOKLYN      NaN            NaN  Closed   \n",
       "3      ADDRESS  BROOKLYN      NaN            NaN  Closed   \n",
       "4      ADDRESS  BROOKLYN      NaN            NaN  Closed   \n",
       "\n",
       "                 Due Date  \\\n",
       "0  10/01/2016 04:23:55 PM   \n",
       "1  10/01/2016 02:25:00 PM   \n",
       "2  10/01/2016 01:17:58 AM   \n",
       "3  10/01/2016 02:03:32 AM   \n",
       "4  10/01/2016 01:59:10 AM   \n",
       "\n",
       "                                                                                Resolution Description  \\\n",
       "0  The Department of Health and Mental Hygiene will review your complaint to determine appropriate ...   \n",
       "1  The Department of Health and Mental Hygiene will review your complaint to determine appropriate ...   \n",
       "2  The Department of Health and Mental Hygiene will review your complaint to determine appropriate ...   \n",
       "3  The Department of Health and Mental Hygiene will review your complaint to determine appropriate ...   \n",
       "4  The Department of Health and Mental Hygiene will review your complaint to determine appropriate ...   \n",
       "\n",
       "  Resolution Action Updated Date        Community Board    Borough  \\\n",
       "0         09/02/2016 12:00:00 AM  Unspecified MANHATTAN  MANHATTAN   \n",
       "1         01/24/2017 12:00:00 AM   Unspecified BROOKLYN   BROOKLYN   \n",
       "2         09/04/2016 12:00:00 AM            02 BROOKLYN   BROOKLYN   \n",
       "3         09/07/2016 12:00:00 AM            17 BROOKLYN   BROOKLYN   \n",
       "4         09/07/2016 12:00:00 AM            17 BROOKLYN   BROOKLYN   \n",
       "\n",
       "   X Coordinate (State Plane)  Y Coordinate (State Plane) Park Facility Name  \\\n",
       "0                         NaN                         NaN        Unspecified   \n",
       "1                         NaN                         NaN        Unspecified   \n",
       "2                    993633.0                    189453.0        Unspecified   \n",
       "3                   1004167.0                    172906.0        Unspecified   \n",
       "4                   1004421.0                    172914.0        Unspecified   \n",
       "\n",
       "  Park Borough  Vehicle Type  Taxi Company Borough  Taxi Pick Up Location  \\\n",
       "0    MANHATTAN           NaN                   NaN                    NaN   \n",
       "1     BROOKLYN           NaN                   NaN                    NaN   \n",
       "2     BROOKLYN           NaN                   NaN                    NaN   \n",
       "3     BROOKLYN           NaN                   NaN                    NaN   \n",
       "4     BROOKLYN           NaN                   NaN                    NaN   \n",
       "\n",
       "   Bridge Highway Name  Bridge Highway Direction  Road Ramp  \\\n",
       "0                  NaN                       NaN        NaN   \n",
       "1                  NaN                       NaN        NaN   \n",
       "2                  NaN                       NaN        NaN   \n",
       "3                  NaN                       NaN        NaN   \n",
       "4                  NaN                       NaN        NaN   \n",
       "\n",
       "   Bridge Highway Segment   Latitude  Longitude  \\\n",
       "0                     NaN        NaN        NaN   \n",
       "1                     NaN        NaN        NaN   \n",
       "2                     NaN  40.686677 -73.966167   \n",
       "3                     NaN  40.641241 -73.928234   \n",
       "4                     NaN  40.641263 -73.927318   \n",
       "\n",
       "                                   Location  \n",
       "0                                       NaN  \n",
       "1                                       NaN  \n",
       "2   (40.68667651821694, -73.96616742133907)  \n",
       "3  (40.641241249401865, -73.92823353964022)  \n",
       "4   (40.64126263285648, -73.92731828387933)  "
      ]
     },
     "execution_count": 3,
     "metadata": {
      "tags": []
     },
     "output_type": "execute_result"
    }
   ],
   "source": [
    "data.head()"
   ]
  },
  {
   "cell_type": "code",
   "execution_count": 4,
   "metadata": {
    "colab": {
     "base_uri": "https://localhost:8080/",
     "height": 368
    },
    "id": "ZPvUTybs84Do",
    "outputId": "d140b925-695c-4195-d7d8-92e25b9cbde6"
   },
   "outputs": [
    {
     "data": {
      "text/html": [
       "<div>\n",
       "<style scoped>\n",
       "    .dataframe tbody tr th:only-of-type {\n",
       "        vertical-align: middle;\n",
       "    }\n",
       "\n",
       "    .dataframe tbody tr th {\n",
       "        vertical-align: top;\n",
       "    }\n",
       "\n",
       "    .dataframe thead th {\n",
       "        text-align: right;\n",
       "    }\n",
       "</style>\n",
       "<table border=\"1\" class=\"dataframe\">\n",
       "  <thead>\n",
       "    <tr style=\"text-align: right;\">\n",
       "      <th></th>\n",
       "      <th>Unnamed: 0</th>\n",
       "      <th>Unique Key</th>\n",
       "      <th>Incident Zip</th>\n",
       "      <th>Facility Type</th>\n",
       "      <th>X Coordinate (State Plane)</th>\n",
       "      <th>Y Coordinate (State Plane)</th>\n",
       "      <th>Vehicle Type</th>\n",
       "      <th>Taxi Company Borough</th>\n",
       "      <th>Taxi Pick Up Location</th>\n",
       "      <th>Bridge Highway Name</th>\n",
       "      <th>Bridge Highway Direction</th>\n",
       "      <th>Road Ramp</th>\n",
       "      <th>Bridge Highway Segment</th>\n",
       "      <th>Latitude</th>\n",
       "      <th>Longitude</th>\n",
       "    </tr>\n",
       "  </thead>\n",
       "  <tbody>\n",
       "    <tr>\n",
       "      <th>count</th>\n",
       "      <td>3101.000000</td>\n",
       "      <td>3.101000e+03</td>\n",
       "      <td>3096.000000</td>\n",
       "      <td>0.0</td>\n",
       "      <td>3.080000e+03</td>\n",
       "      <td>3080.000000</td>\n",
       "      <td>0.0</td>\n",
       "      <td>0.0</td>\n",
       "      <td>0.0</td>\n",
       "      <td>0.0</td>\n",
       "      <td>0.0</td>\n",
       "      <td>0.0</td>\n",
       "      <td>0.0</td>\n",
       "      <td>3080.000000</td>\n",
       "      <td>3080.000000</td>\n",
       "    </tr>\n",
       "    <tr>\n",
       "      <th>mean</th>\n",
       "      <td>93444.976459</td>\n",
       "      <td>3.433324e+07</td>\n",
       "      <td>10724.632106</td>\n",
       "      <td>NaN</td>\n",
       "      <td>1.003518e+06</td>\n",
       "      <td>207289.237662</td>\n",
       "      <td>NaN</td>\n",
       "      <td>NaN</td>\n",
       "      <td>NaN</td>\n",
       "      <td>NaN</td>\n",
       "      <td>NaN</td>\n",
       "      <td>NaN</td>\n",
       "      <td>NaN</td>\n",
       "      <td>40.735591</td>\n",
       "      <td>-73.930441</td>\n",
       "    </tr>\n",
       "    <tr>\n",
       "      <th>std</th>\n",
       "      <td>54588.832628</td>\n",
       "      <td>6.502021e+04</td>\n",
       "      <td>721.506965</td>\n",
       "      <td>NaN</td>\n",
       "      <td>2.114737e+04</td>\n",
       "      <td>30269.423060</td>\n",
       "      <td>NaN</td>\n",
       "      <td>NaN</td>\n",
       "      <td>NaN</td>\n",
       "      <td>NaN</td>\n",
       "      <td>NaN</td>\n",
       "      <td>NaN</td>\n",
       "      <td>NaN</td>\n",
       "      <td>0.083086</td>\n",
       "      <td>0.076263</td>\n",
       "    </tr>\n",
       "    <tr>\n",
       "      <th>min</th>\n",
       "      <td>0.000000</td>\n",
       "      <td>3.421204e+07</td>\n",
       "      <td>83.000000</td>\n",
       "      <td>NaN</td>\n",
       "      <td>9.154590e+05</td>\n",
       "      <td>123092.000000</td>\n",
       "      <td>NaN</td>\n",
       "      <td>NaN</td>\n",
       "      <td>NaN</td>\n",
       "      <td>NaN</td>\n",
       "      <td>NaN</td>\n",
       "      <td>NaN</td>\n",
       "      <td>NaN</td>\n",
       "      <td>40.504288</td>\n",
       "      <td>-74.247383</td>\n",
       "    </tr>\n",
       "    <tr>\n",
       "      <th>25%</th>\n",
       "      <td>42481.000000</td>\n",
       "      <td>3.427592e+07</td>\n",
       "      <td>10128.000000</td>\n",
       "      <td>NaN</td>\n",
       "      <td>9.930858e+05</td>\n",
       "      <td>185758.750000</td>\n",
       "      <td>NaN</td>\n",
       "      <td>NaN</td>\n",
       "      <td>NaN</td>\n",
       "      <td>NaN</td>\n",
       "      <td>NaN</td>\n",
       "      <td>NaN</td>\n",
       "      <td>NaN</td>\n",
       "      <td>40.676481</td>\n",
       "      <td>-73.968089</td>\n",
       "    </tr>\n",
       "    <tr>\n",
       "      <th>50%</th>\n",
       "      <td>95678.000000</td>\n",
       "      <td>3.433468e+07</td>\n",
       "      <td>10473.000000</td>\n",
       "      <td>NaN</td>\n",
       "      <td>1.002143e+06</td>\n",
       "      <td>204077.000000</td>\n",
       "      <td>NaN</td>\n",
       "      <td>NaN</td>\n",
       "      <td>NaN</td>\n",
       "      <td>NaN</td>\n",
       "      <td>NaN</td>\n",
       "      <td>NaN</td>\n",
       "      <td>NaN</td>\n",
       "      <td>40.726764</td>\n",
       "      <td>-73.935504</td>\n",
       "    </tr>\n",
       "    <tr>\n",
       "      <th>75%</th>\n",
       "      <td>141031.000000</td>\n",
       "      <td>3.438862e+07</td>\n",
       "      <td>11226.000000</td>\n",
       "      <td>NaN</td>\n",
       "      <td>1.014570e+06</td>\n",
       "      <td>234612.250000</td>\n",
       "      <td>NaN</td>\n",
       "      <td>NaN</td>\n",
       "      <td>NaN</td>\n",
       "      <td>NaN</td>\n",
       "      <td>NaN</td>\n",
       "      <td>NaN</td>\n",
       "      <td>NaN</td>\n",
       "      <td>40.810610</td>\n",
       "      <td>-73.890706</td>\n",
       "    </tr>\n",
       "    <tr>\n",
       "      <th>max</th>\n",
       "      <td>183820.000000</td>\n",
       "      <td>3.444313e+07</td>\n",
       "      <td>11694.000000</td>\n",
       "      <td>NaN</td>\n",
       "      <td>1.065171e+06</td>\n",
       "      <td>270023.000000</td>\n",
       "      <td>NaN</td>\n",
       "      <td>NaN</td>\n",
       "      <td>NaN</td>\n",
       "      <td>NaN</td>\n",
       "      <td>NaN</td>\n",
       "      <td>NaN</td>\n",
       "      <td>NaN</td>\n",
       "      <td>40.907780</td>\n",
       "      <td>-73.708039</td>\n",
       "    </tr>\n",
       "  </tbody>\n",
       "</table>\n",
       "</div>"
      ],
      "text/plain": [
       "          Unnamed: 0    Unique Key  Incident Zip  Facility Type  \\\n",
       "count    3101.000000  3.101000e+03   3096.000000            0.0   \n",
       "mean    93444.976459  3.433324e+07  10724.632106            NaN   \n",
       "std     54588.832628  6.502021e+04    721.506965            NaN   \n",
       "min         0.000000  3.421204e+07     83.000000            NaN   \n",
       "25%     42481.000000  3.427592e+07  10128.000000            NaN   \n",
       "50%     95678.000000  3.433468e+07  10473.000000            NaN   \n",
       "75%    141031.000000  3.438862e+07  11226.000000            NaN   \n",
       "max    183820.000000  3.444313e+07  11694.000000            NaN   \n",
       "\n",
       "       X Coordinate (State Plane)  Y Coordinate (State Plane)  Vehicle Type  \\\n",
       "count                3.080000e+03                 3080.000000           0.0   \n",
       "mean                 1.003518e+06               207289.237662           NaN   \n",
       "std                  2.114737e+04                30269.423060           NaN   \n",
       "min                  9.154590e+05               123092.000000           NaN   \n",
       "25%                  9.930858e+05               185758.750000           NaN   \n",
       "50%                  1.002143e+06               204077.000000           NaN   \n",
       "75%                  1.014570e+06               234612.250000           NaN   \n",
       "max                  1.065171e+06               270023.000000           NaN   \n",
       "\n",
       "       Taxi Company Borough  Taxi Pick Up Location  Bridge Highway Name  \\\n",
       "count                   0.0                    0.0                  0.0   \n",
       "mean                    NaN                    NaN                  NaN   \n",
       "std                     NaN                    NaN                  NaN   \n",
       "min                     NaN                    NaN                  NaN   \n",
       "25%                     NaN                    NaN                  NaN   \n",
       "50%                     NaN                    NaN                  NaN   \n",
       "75%                     NaN                    NaN                  NaN   \n",
       "max                     NaN                    NaN                  NaN   \n",
       "\n",
       "       Bridge Highway Direction  Road Ramp  Bridge Highway Segment  \\\n",
       "count                       0.0        0.0                     0.0   \n",
       "mean                        NaN        NaN                     NaN   \n",
       "std                         NaN        NaN                     NaN   \n",
       "min                         NaN        NaN                     NaN   \n",
       "25%                         NaN        NaN                     NaN   \n",
       "50%                         NaN        NaN                     NaN   \n",
       "75%                         NaN        NaN                     NaN   \n",
       "max                         NaN        NaN                     NaN   \n",
       "\n",
       "          Latitude    Longitude  \n",
       "count  3080.000000  3080.000000  \n",
       "mean     40.735591   -73.930441  \n",
       "std       0.083086     0.076263  \n",
       "min      40.504288   -74.247383  \n",
       "25%      40.676481   -73.968089  \n",
       "50%      40.726764   -73.935504  \n",
       "75%      40.810610   -73.890706  \n",
       "max      40.907780   -73.708039  "
      ]
     },
     "execution_count": 4,
     "metadata": {
      "tags": []
     },
     "output_type": "execute_result"
    }
   ],
   "source": [
    "data.describe()"
   ]
  },
  {
   "cell_type": "code",
   "execution_count": 5,
   "metadata": {
    "colab": {
     "base_uri": "https://localhost:8080/"
    },
    "id": "bUWsphgt87Ik",
    "outputId": "ec3d3a7a-eab1-4176-d3c6-eb9b0224118a"
   },
   "outputs": [
    {
     "name": "stdout",
     "output_type": "stream",
     "text": [
      "<class 'pandas.core.frame.DataFrame'>\n",
      "RangeIndex: 3101 entries, 0 to 3100\n",
      "Data columns (total 40 columns):\n",
      " #   Column                          Non-Null Count  Dtype  \n",
      "---  ------                          --------------  -----  \n",
      " 0   Unnamed: 0                      3101 non-null   int64  \n",
      " 1   Unique Key                      3101 non-null   int64  \n",
      " 2   Created Date                    3101 non-null   object \n",
      " 3   Closed Date                     2837 non-null   object \n",
      " 4   Agency                          3101 non-null   object \n",
      " 5   Agency Name                     3101 non-null   object \n",
      " 6   Complaint Type                  3101 non-null   object \n",
      " 7   Descriptor                      3101 non-null   object \n",
      " 8   Location Type                   3101 non-null   object \n",
      " 9   Incident Zip                    3096 non-null   float64\n",
      " 10  Incident Address                2915 non-null   object \n",
      " 11  Street Name                     2915 non-null   object \n",
      " 12  Cross Street 1                  2235 non-null   object \n",
      " 13  Cross Street 2                  2234 non-null   object \n",
      " 14  Intersection Street 1           184 non-null    object \n",
      " 15  Intersection Street 2           184 non-null    object \n",
      " 16  Address Type                    3097 non-null   object \n",
      " 17  City                            3096 non-null   object \n",
      " 18  Landmark                        1 non-null      object \n",
      " 19  Facility Type                   0 non-null      float64\n",
      " 20  Status                          3101 non-null   object \n",
      " 21  Due Date                        3101 non-null   object \n",
      " 22  Resolution Description          3101 non-null   object \n",
      " 23  Resolution Action Updated Date  3101 non-null   object \n",
      " 24  Community Board                 3101 non-null   object \n",
      " 25  Borough                         3101 non-null   object \n",
      " 26  X Coordinate (State Plane)      3080 non-null   float64\n",
      " 27  Y Coordinate (State Plane)      3080 non-null   float64\n",
      " 28  Park Facility Name              3101 non-null   object \n",
      " 29  Park Borough                    3101 non-null   object \n",
      " 30  Vehicle Type                    0 non-null      float64\n",
      " 31  Taxi Company Borough            0 non-null      float64\n",
      " 32  Taxi Pick Up Location           0 non-null      float64\n",
      " 33  Bridge Highway Name             0 non-null      float64\n",
      " 34  Bridge Highway Direction        0 non-null      float64\n",
      " 35  Road Ramp                       0 non-null      float64\n",
      " 36  Bridge Highway Segment          0 non-null      float64\n",
      " 37  Latitude                        3080 non-null   float64\n",
      " 38  Longitude                       3080 non-null   float64\n",
      " 39  Location                        3080 non-null   object \n",
      "dtypes: float64(13), int64(2), object(25)\n",
      "memory usage: 969.2+ KB\n"
     ]
    }
   ],
   "source": [
    "data.info()"
   ]
  },
  {
   "cell_type": "code",
   "execution_count": 6,
   "metadata": {
    "id": "9xY6Gcy7xcO6"
   },
   "outputs": [],
   "source": [
    "useful_data = data[['Created Date','Closed Date','Location Type','Incident Zip','Incident Address','Due Date',\n",
    "                    'Street Name','Cross Street 1','Cross Street 2', 'Address Type', 'City', 'Status',\n",
    "                    'Community Board','Borough', 'Park Borough', 'Latitude','Longitude','Descriptor']]\n",
    "\n",
    "# Dropping Columns that won't help in our analysis(including empty columns and columns with only a single value)                   "
   ]
  },
  {
   "cell_type": "code",
   "execution_count": 7,
   "metadata": {
    "colab": {
     "base_uri": "https://localhost:8080/"
    },
    "id": "-6A6D1qLwflw",
    "outputId": "d79b4c67-d6d9-400a-ab3e-2e7dbf17f0a3"
   },
   "outputs": [
    {
     "name": "stdout",
     "output_type": "stream",
     "text": [
      "<class 'pandas.core.frame.DataFrame'>\n",
      "RangeIndex: 3101 entries, 0 to 3100\n",
      "Data columns (total 18 columns):\n",
      " #   Column            Non-Null Count  Dtype  \n",
      "---  ------            --------------  -----  \n",
      " 0   Created Date      3101 non-null   object \n",
      " 1   Closed Date       2837 non-null   object \n",
      " 2   Location Type     3101 non-null   object \n",
      " 3   Incident Zip      3096 non-null   float64\n",
      " 4   Incident Address  2915 non-null   object \n",
      " 5   Due Date          3101 non-null   object \n",
      " 6   Street Name       2915 non-null   object \n",
      " 7   Cross Street 1    2235 non-null   object \n",
      " 8   Cross Street 2    2234 non-null   object \n",
      " 9   Address Type      3097 non-null   object \n",
      " 10  City              3096 non-null   object \n",
      " 11  Status            3101 non-null   object \n",
      " 12  Community Board   3101 non-null   object \n",
      " 13  Borough           3101 non-null   object \n",
      " 14  Park Borough      3101 non-null   object \n",
      " 15  Latitude          3080 non-null   float64\n",
      " 16  Longitude         3080 non-null   float64\n",
      " 17  Descriptor        3101 non-null   object \n",
      "dtypes: float64(3), object(15)\n",
      "memory usage: 436.2+ KB\n"
     ]
    }
   ],
   "source": [
    "useful_data.info()"
   ]
  },
  {
   "cell_type": "code",
   "execution_count": 8,
   "metadata": {
    "colab": {
     "base_uri": "https://localhost:8080/",
     "height": 297
    },
    "id": "tQf58XKRwjJW",
    "outputId": "2812d70f-ee9e-467a-f1cc-a44cb561a86e"
   },
   "outputs": [
    {
     "data": {
      "text/html": [
       "<div>\n",
       "<style scoped>\n",
       "    .dataframe tbody tr th:only-of-type {\n",
       "        vertical-align: middle;\n",
       "    }\n",
       "\n",
       "    .dataframe tbody tr th {\n",
       "        vertical-align: top;\n",
       "    }\n",
       "\n",
       "    .dataframe thead th {\n",
       "        text-align: right;\n",
       "    }\n",
       "</style>\n",
       "<table border=\"1\" class=\"dataframe\">\n",
       "  <thead>\n",
       "    <tr style=\"text-align: right;\">\n",
       "      <th></th>\n",
       "      <th>Incident Zip</th>\n",
       "      <th>Latitude</th>\n",
       "      <th>Longitude</th>\n",
       "    </tr>\n",
       "  </thead>\n",
       "  <tbody>\n",
       "    <tr>\n",
       "      <th>count</th>\n",
       "      <td>3096.000000</td>\n",
       "      <td>3080.000000</td>\n",
       "      <td>3080.000000</td>\n",
       "    </tr>\n",
       "    <tr>\n",
       "      <th>mean</th>\n",
       "      <td>10724.632106</td>\n",
       "      <td>40.735591</td>\n",
       "      <td>-73.930441</td>\n",
       "    </tr>\n",
       "    <tr>\n",
       "      <th>std</th>\n",
       "      <td>721.506965</td>\n",
       "      <td>0.083086</td>\n",
       "      <td>0.076263</td>\n",
       "    </tr>\n",
       "    <tr>\n",
       "      <th>min</th>\n",
       "      <td>83.000000</td>\n",
       "      <td>40.504288</td>\n",
       "      <td>-74.247383</td>\n",
       "    </tr>\n",
       "    <tr>\n",
       "      <th>25%</th>\n",
       "      <td>10128.000000</td>\n",
       "      <td>40.676481</td>\n",
       "      <td>-73.968089</td>\n",
       "    </tr>\n",
       "    <tr>\n",
       "      <th>50%</th>\n",
       "      <td>10473.000000</td>\n",
       "      <td>40.726764</td>\n",
       "      <td>-73.935504</td>\n",
       "    </tr>\n",
       "    <tr>\n",
       "      <th>75%</th>\n",
       "      <td>11226.000000</td>\n",
       "      <td>40.810610</td>\n",
       "      <td>-73.890706</td>\n",
       "    </tr>\n",
       "    <tr>\n",
       "      <th>max</th>\n",
       "      <td>11694.000000</td>\n",
       "      <td>40.907780</td>\n",
       "      <td>-73.708039</td>\n",
       "    </tr>\n",
       "  </tbody>\n",
       "</table>\n",
       "</div>"
      ],
      "text/plain": [
       "       Incident Zip     Latitude    Longitude\n",
       "count   3096.000000  3080.000000  3080.000000\n",
       "mean   10724.632106    40.735591   -73.930441\n",
       "std      721.506965     0.083086     0.076263\n",
       "min       83.000000    40.504288   -74.247383\n",
       "25%    10128.000000    40.676481   -73.968089\n",
       "50%    10473.000000    40.726764   -73.935504\n",
       "75%    11226.000000    40.810610   -73.890706\n",
       "max    11694.000000    40.907780   -73.708039"
      ]
     },
     "execution_count": 8,
     "metadata": {
      "tags": []
     },
     "output_type": "execute_result"
    }
   ],
   "source": [
    "useful_data.describe()"
   ]
  },
  {
   "cell_type": "markdown",
   "metadata": {
    "id": "QQxs_q9f0qhg"
   },
   "source": [
    "##Primary Data Exploration\n",
    "Will find out the value counts of important columns and find the correlation between columns"
   ]
  },
  {
   "cell_type": "code",
   "execution_count": 9,
   "metadata": {
    "colab": {
     "base_uri": "https://localhost:8080/",
     "height": 579
    },
    "id": "IzO8g6fE0o0e",
    "outputId": "d8632eb0-f559-4e35-ffa0-90fe988b5a57"
   },
   "outputs": [
    {
     "data": {
      "text/plain": [
       "<matplotlib.axes._subplots.AxesSubplot at 0x7f18eea78668>"
      ]
     },
     "execution_count": 9,
     "metadata": {
      "tags": []
     },
     "output_type": "execute_result"
    },
    {
     "data": {
      "image/png": "[encoded data removed]",
      "text/plain": [
       "<Figure size 1008x504 with 1 Axes>"
      ]
     },
     "metadata": {
      "needs_background": "light",
      "tags": []
     },
     "output_type": "display_data"
    }
   ],
   "source": [
    "data['Descriptor'].value_counts().plot(kind='bar',figsize=(14,7))"
   ]
  },
  {
   "cell_type": "code",
   "execution_count": 10,
   "metadata": {
    "colab": {
     "base_uri": "https://localhost:8080/",
     "height": 142
    },
    "id": "VaFonkW_yJ16",
    "outputId": "3458c368-667c-49ba-8ff3-b5c8f14daa05"
   },
   "outputs": [
    {
     "data": {
      "text/html": [
       "<div>\n",
       "<style scoped>\n",
       "    .dataframe tbody tr th:only-of-type {\n",
       "        vertical-align: middle;\n",
       "    }\n",
       "\n",
       "    .dataframe tbody tr th {\n",
       "        vertical-align: top;\n",
       "    }\n",
       "\n",
       "    .dataframe thead th {\n",
       "        text-align: right;\n",
       "    }\n",
       "</style>\n",
       "<table border=\"1\" class=\"dataframe\">\n",
       "  <thead>\n",
       "    <tr style=\"text-align: right;\">\n",
       "      <th></th>\n",
       "      <th>Incident Zip</th>\n",
       "      <th>Latitude</th>\n",
       "      <th>Longitude</th>\n",
       "    </tr>\n",
       "  </thead>\n",
       "  <tbody>\n",
       "    <tr>\n",
       "      <th>Incident Zip</th>\n",
       "      <td>1.000000</td>\n",
       "      <td>-0.421770</td>\n",
       "      <td>0.335074</td>\n",
       "    </tr>\n",
       "    <tr>\n",
       "      <th>Latitude</th>\n",
       "      <td>-0.421770</td>\n",
       "      <td>1.000000</td>\n",
       "      <td>0.347973</td>\n",
       "    </tr>\n",
       "    <tr>\n",
       "      <th>Longitude</th>\n",
       "      <td>0.335074</td>\n",
       "      <td>0.347973</td>\n",
       "      <td>1.000000</td>\n",
       "    </tr>\n",
       "  </tbody>\n",
       "</table>\n",
       "</div>"
      ],
      "text/plain": [
       "              Incident Zip  Latitude  Longitude\n",
       "Incident Zip      1.000000 -0.421770   0.335074\n",
       "Latitude         -0.421770  1.000000   0.347973\n",
       "Longitude         0.335074  0.347973   1.000000"
      ]
     },
     "execution_count": 10,
     "metadata": {
      "tags": []
     },
     "output_type": "execute_result"
    }
   ],
   "source": [
    "useful_data.corr()"
   ]
  },
  {
   "cell_type": "code",
   "execution_count": 11,
   "metadata": {
    "colab": {
     "base_uri": "https://localhost:8080/"
    },
    "id": "IgvTv-H0DNcg",
    "outputId": "9419163f-8bf6-42af-da1a-7abba1778e6e"
   },
   "outputs": [
    {
     "name": "stdout",
     "output_type": "stream",
     "text": [
      "0\n",
      "264\n",
      "0\n",
      "5\n",
      "186\n",
      "0\n",
      "186\n",
      "866\n",
      "867\n",
      "4\n",
      "5\n",
      "0\n",
      "0\n",
      "0\n",
      "0\n",
      "21\n",
      "21\n",
      "0\n"
     ]
    }
   ],
   "source": [
    "for column in useful_data.columns:\n",
    "    print(useful_data[column].isna().sum().sum())"
   ]
  },
  {
   "cell_type": "code",
   "execution_count": 12,
   "metadata": {
    "id": "Ezg23lWB2FOj"
   },
   "outputs": [],
   "source": [
    "for column in useful_data.columns:\n",
    "    useful_data[column].fillna(useful_data[column].mode()[0], inplace=True)\n",
    "\n",
    "# Replacing NaN by mode values"
   ]
  },
  {
   "cell_type": "markdown",
   "metadata": {
    "id": "CJ2uxMiw05Jg"
   },
   "source": [
    "##Choice of Analysis: Feature Extraction\n",
    "\n",
    "We will make some features from existing data to feed better data to the model"
   ]
  },
  {
   "cell_type": "code",
   "execution_count": 13,
   "metadata": {
    "id": "BpzI2EkNxcQ9"
   },
   "outputs": [],
   "source": [
    "useful_data['Created Date'] = pd.to_datetime(useful_data['Created Date']) \n",
    "useful_data['Closed Date'] = pd.to_datetime(useful_data['Closed Date'])\n",
    "useful_data['Due Date'] = pd.to_datetime(useful_data['Due Date'])\n",
    "\n",
    "# Converting dates from string to datetime"
   ]
  },
  {
   "cell_type": "code",
   "execution_count": 14,
   "metadata": {
    "id": "kwTmcRL9xcTQ"
   },
   "outputs": [],
   "source": [
    "useful_data['Time Between Close'] = (useful_data['Closed Date'] - useful_data['Created Date']).dt.days\n",
    "useful_data['Time to Due'] = (useful_data['Due Date'] - useful_data['Created Date']).dt.days\n",
    "useful_data['Time to Close'] = (useful_data['Due Date'] - useful_data['Closed Date']).dt.days\n",
    "\n",
    "# Creating new features to help us analyze the data better"
   ]
  },
  {
   "cell_type": "code",
   "execution_count": 15,
   "metadata": {
    "colab": {
     "base_uri": "https://localhost:8080/",
     "height": 448
    },
    "id": "fKOxlrRAB0LY",
    "outputId": "17f52cb9-c839-4a79-abe6-745574bcfd5f"
   },
   "outputs": [
    {
     "data": {
      "text/plain": [
       "<matplotlib.axes._subplots.AxesSubplot at 0x7f18ee9c02e8>"
      ]
     },
     "execution_count": 15,
     "metadata": {
      "tags": []
     },
     "output_type": "execute_result"
    },
    {
     "data": {
      "image/png": "[encoded data removed]",
      "text/plain": [
       "<Figure size 1440x504 with 1 Axes>"
      ]
     },
     "metadata": {
      "needs_background": "light",
      "tags": []
     },
     "output_type": "display_data"
    }
   ],
   "source": [
    "useful_data['Time Between Close'].value_counts().head(20).plot(kind='bar',figsize=(20,7))"
   ]
  },
  {
   "cell_type": "code",
   "execution_count": 16,
   "metadata": {
    "colab": {
     "base_uri": "https://localhost:8080/",
     "height": 448
    },
    "id": "o_pZn3lRCMlV",
    "outputId": "fc4f7d8a-1fc4-425c-e950-51863045863c"
   },
   "outputs": [
    {
     "data": {
      "text/plain": [
       "<matplotlib.axes._subplots.AxesSubplot at 0x7f18ee9b9860>"
      ]
     },
     "execution_count": 16,
     "metadata": {
      "tags": []
     },
     "output_type": "execute_result"
    },
    {
     "data": {
      "image/png": "[encoded data removed]",
      "text/plain": [
       "<Figure size 1440x504 with 1 Axes>"
      ]
     },
     "metadata": {
      "needs_background": "light",
      "tags": []
     },
     "output_type": "display_data"
    }
   ],
   "source": [
    "useful_data['Time to Close'].value_counts().head(20).plot(kind='bar',figsize=(20,7))"
   ]
  },
  {
   "cell_type": "code",
   "execution_count": 17,
   "metadata": {
    "id": "ugUTOiIlxcVX"
   },
   "outputs": [],
   "source": [
    "useful_data['Created Date'] = pd.to_datetime(useful_data['Created Date']).dt.to_period('M')\n",
    "useful_data['Closed Date'] = pd.to_datetime(useful_data['Closed Date']).dt.to_period('M')\n",
    "useful_data['Due Date'] = pd.to_datetime(useful_data['Due Date']).dt.to_period('M')\n",
    "\n",
    "# Transforming timestamp to month level detail to avoid extra columns in one hot encoding"
   ]
  },
  {
   "cell_type": "code",
   "execution_count": 18,
   "metadata": {
    "id": "q1zlC2sbxcXm"
   },
   "outputs": [],
   "source": [
    "useful_data = useful_data.drop(['Created Date', 'Closed Date', 'Due Date'], axis=1)\n",
    "\n",
    "# Dropping columns for which we have already have the new features"
   ]
  },
  {
   "cell_type": "code",
   "execution_count": 19,
   "metadata": {
    "colab": {
     "base_uri": "https://localhost:8080/"
    },
    "id": "IkgRSOnMmIV6",
    "outputId": "24cad768-5d28-4cb5-fc3f-1ddb3551109c"
   },
   "outputs": [
    {
     "data": {
      "text/plain": [
       "Index(['Location Type', 'Incident Zip', 'Incident Address', 'Street Name',\n",
       "       'Cross Street 1', 'Cross Street 2', 'Address Type', 'City', 'Status',\n",
       "       'Community Board', 'Borough', 'Park Borough', 'Latitude', 'Longitude',\n",
       "       'Descriptor', 'Time Between Close', 'Time to Due', 'Time to Close'],\n",
       "      dtype='object')"
      ]
     },
     "execution_count": 19,
     "metadata": {
      "tags": []
     },
     "output_type": "execute_result"
    }
   ],
   "source": [
    "useful_data.columns"
   ]
  },
  {
   "cell_type": "code",
   "execution_count": 20,
   "metadata": {
    "id": "N4RFSwzd47QC"
   },
   "outputs": [],
   "source": [
    "useful_data = useful_data[useful_data['Descriptor']!='Condition Attracting Rodents']\n",
    "# Removing Condition Attracting Rodents cases"
   ]
  },
  {
   "cell_type": "code",
   "execution_count": 21,
   "metadata": {
    "colab": {
     "base_uri": "https://localhost:8080/",
     "height": 204
    },
    "id": "wGRdLxstlSGo",
    "outputId": "44edf426-2267-4f81-dbdd-56a498b7de48"
   },
   "outputs": [
    {
     "data": {
      "text/html": [
       "<div>\n",
       "<style scoped>\n",
       "    .dataframe tbody tr th:only-of-type {\n",
       "        vertical-align: middle;\n",
       "    }\n",
       "\n",
       "    .dataframe tbody tr th {\n",
       "        vertical-align: top;\n",
       "    }\n",
       "\n",
       "    .dataframe thead th {\n",
       "        text-align: right;\n",
       "    }\n",
       "</style>\n",
       "<table border=\"1\" class=\"dataframe\">\n",
       "  <thead>\n",
       "    <tr style=\"text-align: right;\">\n",
       "      <th></th>\n",
       "      <th>Latitude</th>\n",
       "      <th>Longitude</th>\n",
       "      <th>Descriptor</th>\n",
       "    </tr>\n",
       "  </thead>\n",
       "  <tbody>\n",
       "    <tr>\n",
       "      <th>0</th>\n",
       "      <td>40.824595</td>\n",
       "      <td>-73.877299</td>\n",
       "      <td>Rat Sighting</td>\n",
       "    </tr>\n",
       "    <tr>\n",
       "      <th>1</th>\n",
       "      <td>40.824595</td>\n",
       "      <td>-73.877299</td>\n",
       "      <td>Rat Sighting</td>\n",
       "    </tr>\n",
       "    <tr>\n",
       "      <th>2</th>\n",
       "      <td>40.686677</td>\n",
       "      <td>-73.966167</td>\n",
       "      <td>Rat Sighting</td>\n",
       "    </tr>\n",
       "    <tr>\n",
       "      <th>3</th>\n",
       "      <td>40.641241</td>\n",
       "      <td>-73.928234</td>\n",
       "      <td>Rat Sighting</td>\n",
       "    </tr>\n",
       "    <tr>\n",
       "      <th>4</th>\n",
       "      <td>40.641263</td>\n",
       "      <td>-73.927318</td>\n",
       "      <td>Rat Sighting</td>\n",
       "    </tr>\n",
       "  </tbody>\n",
       "</table>\n",
       "</div>"
      ],
      "text/plain": [
       "    Latitude  Longitude    Descriptor\n",
       "0  40.824595 -73.877299  Rat Sighting\n",
       "1  40.824595 -73.877299  Rat Sighting\n",
       "2  40.686677 -73.966167  Rat Sighting\n",
       "3  40.641241 -73.928234  Rat Sighting\n",
       "4  40.641263 -73.927318  Rat Sighting"
      ]
     },
     "execution_count": 21,
     "metadata": {
      "tags": []
     },
     "output_type": "execute_result"
    }
   ],
   "source": [
    "df = useful_data[['Latitude','Longitude','Descriptor']]\n",
    "\n",
    "df.head()"
   ]
  },
  {
   "cell_type": "code",
   "execution_count": 22,
   "metadata": {
    "colab": {
     "base_uri": "https://localhost:8080/",
     "height": 497
    },
    "id": "SBafhbZClSJc",
    "outputId": "4a3e578a-896d-45b5-8698-b5a29e585b48"
   },
   "outputs": [
    {
     "data": {
      "image/png": "[encoded data removed]",
      "text/plain": [
       "<Figure size 864x576 with 1 Axes>"
      ]
     },
     "metadata": {
      "needs_background": "light",
      "tags": []
     },
     "output_type": "display_data"
    }
   ],
   "source": [
    "df.plot(kind=\"scatter\", x=\"Longitude\", y=\"Latitude\", label=\"Density\",\n",
    "    c=\"blue\", cmap=plt.get_cmap(\"magma\"),\n",
    "    colorbar=False, alpha=0.5, figsize=(12,8),)\n",
    "plt.legend()\n",
    "plt.show()"
   ]
  },
  {
   "cell_type": "markdown",
   "metadata": {
    "id": "8uAwh8DC3cCB"
   },
   "source": [
    "We can see some pockets of dense "
   ]
  },
  {
   "cell_type": "code",
   "execution_count": 23,
   "metadata": {
    "id": "5cP_FM3s4GWH"
   },
   "outputs": [],
   "source": [
    "df['Color'] = df['Descriptor']\n",
    "r = {'Rat Sighting': 'red', 'Mouse Sighting':'blue', 'Signs of Rodents':'green'}\n",
    "df = df.replace({\"Color\": r})"
   ]
  },
  {
   "cell_type": "code",
   "execution_count": 24,
   "metadata": {
    "colab": {
     "base_uri": "https://localhost:8080/",
     "height": 497
    },
    "id": "XsPE2rlM4HQv",
    "outputId": "2a41b098-e8a2-4255-ff99-000e2cf73967"
   },
   "outputs": [
    {
     "data": {
      "image/png": "[encoded data removed]",
      "text/plain": [
       "<Figure size 864x576 with 1 Axes>"
      ]
     },
     "metadata": {
      "needs_background": "light",
      "tags": []
     },
     "output_type": "display_data"
    }
   ],
   "source": [
    "df.plot(kind=\"scatter\", x=\"Longitude\", y=\"Latitude\", label=\"Density\",\n",
    "    c=df['Color'], cmap=plt.get_cmap(\"magma\"),\n",
    "    colorbar=False, alpha=0.5, figsize=(12,8),)\n",
    "plt.legend()\n",
    "plt.show()"
   ]
  },
  {
   "cell_type": "markdown",
   "metadata": {
    "id": "3H9ulJ2U5xhP"
   },
   "source": [
    "We still see some pockets of Rat seeing, Mouse seeing and Signs of rodents, Location looks to be a factor in rodent descriptor"
   ]
  },
  {
   "cell_type": "markdown",
   "metadata": {
    "id": "2rqBwJtU2rx-"
   },
   "source": [
    "## Variable Exploration"
   ]
  },
  {
   "cell_type": "code",
   "execution_count": 25,
   "metadata": {
    "id": "YT62eTBixoZk"
   },
   "outputs": [],
   "source": [
    "y = useful_data['Descriptor'] # Assigning the test/target variable  \n",
    "X = useful_data.drop('Descriptor',axis=1) # Assigning the training data\n",
    "X = pd.get_dummies(X, drop_first = True) # Employing one hot encoding to convert categorical variables to ML friendly numerical format\n",
    "y = pd.DataFrame(y)"
   ]
  },
  {
   "cell_type": "code",
   "execution_count": 26,
   "metadata": {
    "id": "dIUt5vnFxodj"
   },
   "outputs": [],
   "source": [
    "r = {'Rat Sighting': 0, 'Mouse Sighting':1, 'Condition Attracting Rodents':2, 'Signs of Rodents':3}\n",
    "y = y.replace({\"Descriptor\": r})"
   ]
  },
  {
   "cell_type": "markdown",
   "metadata": {
    "id": "HoD3sXFf3GfI"
   },
   "source": [
    "## Choice of Model\n",
    "We will try to predict the Descriptor by using Supervised Machine Learning Algorithm as we have labelled data to check on our performance.\n",
    "\n",
    "We will choose Random Forest because:\n",
    "\n",
    "1. As a decision tree algorithm, Random Forests are less influenced by outliers than other algorithms.\n",
    "\n",
    "2. RF's don't make any assumptions about the underlying distribution of your data, and can implicitly handle collinearity in features, because if you have two highly similar features, the information gain from splitting on one of the features will also use up the predictive power of the other feature. Read about it here.\n",
    "\n",
    "3. It's possible to extract the 'best' features (which could be the total number of times a feature was used to split on the data, or the mean decrease in impurity etc).\n",
    "\n",
    "4. Comparatively faster in comparison to Gradient Boost and XGBoost"
   ]
  },
  {
   "cell_type": "code",
   "execution_count": 27,
   "metadata": {
    "id": "2hb-N_EAxogE"
   },
   "outputs": [],
   "source": [
    "from sklearn.model_selection import train_test_split\n",
    "X_train, X_test, y_train, y_test = train_test_split(X, y, test_size=0.2, random_state=1)"
   ]
  },
  {
   "cell_type": "code",
   "execution_count": 28,
   "metadata": {
    "id": "qwrichvIxoiV"
   },
   "outputs": [],
   "source": [
    "from sklearn.neighbors import KNeighborsClassifier\n",
    "neigh = KNeighborsClassifier(n_neighbors=3)"
   ]
  },
  {
   "cell_type": "code",
   "execution_count": 29,
   "metadata": {
    "colab": {
     "base_uri": "https://localhost:8080/"
    },
    "id": "JW0Eckxoxokh",
    "outputId": "f09cd5e4-a43a-43da-fd2c-93034909b727"
   },
   "outputs": [
    {
     "data": {
      "text/plain": [
       "KNeighborsClassifier(algorithm='auto', leaf_size=30, metric='minkowski',\n",
       "                     metric_params=None, n_jobs=None, n_neighbors=3, p=2,\n",
       "                     weights='uniform')"
      ]
     },
     "execution_count": 29,
     "metadata": {
      "tags": []
     },
     "output_type": "execute_result"
    }
   ],
   "source": [
    "neigh.fit(X_train, y_train)"
   ]
  },
  {
   "cell_type": "code",
   "execution_count": 30,
   "metadata": {
    "id": "v5Kdx3_KxomN"
   },
   "outputs": [],
   "source": [
    "y_pred = neigh.predict(X_test)"
   ]
  },
  {
   "cell_type": "code",
   "execution_count": 31,
   "metadata": {
    "colab": {
     "base_uri": "https://localhost:8080/"
    },
    "id": "EEG6qw3Zx2-e",
    "outputId": "02f377f5-31c5-457a-ce12-362206c69c47"
   },
   "outputs": [
    {
     "data": {
      "text/plain": [
       "0.6931106471816284"
      ]
     },
     "execution_count": 31,
     "metadata": {
      "tags": []
     },
     "output_type": "execute_result"
    }
   ],
   "source": [
    "from sklearn.metrics import accuracy_score\n",
    "accuracy_score(y_test, y_pred)"
   ]
  },
  {
   "cell_type": "markdown",
   "metadata": {
    "id": "ZgH-wmMSqT-c"
   },
   "source": [
    "Now we will try to use the Random forest classifier"
   ]
  },
  {
   "cell_type": "code",
   "execution_count": 32,
   "metadata": {
    "colab": {
     "base_uri": "https://localhost:8080/"
    },
    "id": "pBccuWRpx-fH",
    "outputId": "d705f115-cac6-43ad-ac0d-7fdac2cfaa21"
   },
   "outputs": [
    {
     "name": "stdout",
     "output_type": "stream",
     "text": [
      "n_est: 50 depth: 20 0.7411273486430062\n",
      "n_est: 50 depth: 30 0.7578288100208769\n",
      "n_est: 50 depth: 60 0.7661795407098121\n",
      "n_est: 50 depth: 90 0.755741127348643\n",
      "n_est: 50 depth: None 0.7536534446764092\n",
      "n_est: 100 depth: 20 0.7348643006263048\n",
      "n_est: 100 depth: 30 0.755741127348643\n",
      "n_est: 100 depth: 60 0.7536534446764092\n",
      "n_est: 100 depth: 90 0.7599164926931107\n",
      "n_est: 100 depth: None 0.7640918580375783\n",
      "n_est: 150 depth: 20 0.7390396659707724\n",
      "n_est: 150 depth: 30 0.7473903966597077\n",
      "n_est: 150 depth: 60 0.7599164926931107\n",
      "n_est: 150 depth: 90 0.755741127348643\n",
      "n_est: 150 depth: None 0.7536534446764092\n",
      "n_est: 200 depth: 20 0.7411273486430062\n",
      "n_est: 200 depth: 30 0.7494780793319415\n",
      "n_est: 200 depth: 60 0.7599164926931107\n",
      "n_est: 200 depth: 90 0.7536534446764092\n",
      "n_est: 200 depth: None 0.7578288100208769\n"
     ]
    }
   ],
   "source": [
    "def train_RF(n_est,depth):\n",
    "    rf=RandomForestClassifier(n_estimators=n_est,max_depth=depth,n_jobs=-1)\n",
    "    rf_model=rf.fit(X_train,y_train)\n",
    "    y_pred=rf_model.predict(X_test)\n",
    "    print(\"n_est:\",n_est,\"depth:\",depth,accuracy_score(y_test, y_pred))\n",
    "for n_est in [50,100,150,200]:\n",
    "    for depth in [20,30,60, 90, None]:\n",
    "        train_RF(n_est,depth)"
   ]
  },
  {
   "cell_type": "code",
   "execution_count": 33,
   "metadata": {
    "colab": {
     "base_uri": "https://localhost:8080/"
    },
    "id": "NjtGWEbdopnl",
    "outputId": "88e16ae8-5a18-4d46-f977-deb0ab7480c4"
   },
   "outputs": [
    {
     "data": {
      "text/plain": [
       "array([0.74947808, 0.78914405, 0.75574113, 0.74947808, 0.73849372])"
      ]
     },
     "execution_count": 33,
     "metadata": {
      "tags": []
     },
     "output_type": "execute_result"
    }
   ],
   "source": [
    "rf=RandomForestClassifier(n_jobs=-1)\n",
    "k_fold=KFold(n_splits=5)\n",
    "cross_val_score(rf, X, y, cv=k_fold, scoring='accuracy', n_jobs=-1)"
   ]
  },
  {
   "cell_type": "code",
   "execution_count": 35,
   "metadata": {
    "colab": {
     "base_uri": "https://localhost:8080/"
    },
    "id": "b2cEEs9BopqM",
    "outputId": "cbc9d06a-628e-4e33-e860-ce0adb17c8bc"
   },
   "outputs": [
    {
     "data": {
      "text/plain": [
       "[(0.04296778388056617, 'Latitude'),\n",
       " (0.0417693330182492, 'Longitude'),\n",
       " (0.03231926797825544, 'Time Between Close'),\n",
       " (0.03125935109503732, 'Time to Close'),\n",
       " (0.03040176504033417, 'Incident Zip')]"
      ]
     },
     "execution_count": 35,
     "metadata": {
      "tags": []
     },
     "output_type": "execute_result"
    }
   ],
   "source": [
    "rf=RandomForestClassifier(n_estimators=100, max_depth=None, n_jobs= -1) # using the better \n",
    "rf_model=rf.fit(X_train,y_train)\n",
    "sorted(zip(rf_model.feature_importances_,X_train.columns),reverse=True)[:5] # Important features used to make the prediction"
   ]
  },
  {
   "cell_type": "markdown",
   "metadata": {
    "id": "5xPivPY_pNHX"
   },
   "source": [
    "The user created features are helping in making the classification decision "
   ]
  }
 ],
 "metadata": {
  "colab": {
   "collapsed_sections": [],
   "name": "Untitled0.ipynb",
   "provenance": []
  },
  "kernelspec": {
   "display_name": "Python 3",
   "language": "python",
   "name": "python3"
  },
  "language_info": {
   "codemirror_mode": {
    "name": "ipython",
    "version": 3
   },
   "file_extension": ".py",
   "mimetype": "text/x-python",
   "name": "python",
   "nbconvert_exporter": "python",
   "pygments_lexer": "ipython3",
   "version": "3.8.5"
  }
 },
 "nbformat": 4,
 "nbformat_minor": 1
}
